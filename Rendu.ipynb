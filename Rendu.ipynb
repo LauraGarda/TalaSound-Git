{
 "cells": [
  {
   "cell_type": "markdown",
   "metadata": {},
   "source": [
    "# Tala Sound"
   ]
  },
  {
   "cell_type": "markdown",
   "metadata": {},
   "source": [
    "Philomène Blot, Elise Costa, Laura Garda\n",
    "\n",
    "Encadrées par Pierre Jouvelot (Mines ParisTech) et Luc Perera (ENSAD)"
   ]
  },
  {
   "cell_type": "code",
   "execution_count": null,
   "metadata": {},
   "outputs": [],
   "source": [
    "%matplotlib inline\n",
    "import matplotlib.pyplot as plt\n",
    "\n",
    "import numpy as np\n",
    "import scipy"
   ]
  },
  {
   "cell_type": "markdown",
   "metadata": {},
   "source": [
    "## Introduction - mise en contexte"
   ]
  },
  {
   "cell_type": "markdown",
   "metadata": {},
   "source": [
    "Dans le cadre de la thèse de Luc Perera, liée au design médical, l'objectif du projet Tala Sound consiste à réaliser un dispositif interactif et sonore qui agit sur le comportement des patients atteints de démence, type Alzheimer.\n",
    "\n",
    "<img src=\"Intro-1.PNG\" alt=\"drawing\" width=\"500\"/>\n",
    "\n",
    "Cet objet, appelé Tala Box (boîte composé d'une boule mobile), transmettra des sons et des vibrations, qui interagiront avec les mouvements des mains du patient.\n",
    "\n",
    "<img src=\"Intro-3.PNG\" alt=\"drawing\" width=\"200\"/>\n",
    "\n",
    "En amont, des enregistrements de musique auront été effectuées, provenant de tablas (instrument de musique à percussion) utilisés dans la musique carnatique (musique du Sud de l'Inde possédant une très grande variété de structures rythmiques typiques, appelées \"talas\"). En effet, ce type de musique posséde des vertus apaisantes pour les patients agités. Ces sons vont également provoquer des effets de déplacement et de vibrations (micro-mouvements) sur le dessus élastique du support (c'est-à-dire la Tala Box) ; le patient pourra alors être incité à manipuler l’objet pour se calmer.\n",
    "\n",
    "Nous devions donc nous concentrer sur ce dispositif, la Tala Box, pour que le patient réagisse aux mouvements de la surface de la Tala Box, en fonction du son de la musique ; et cela par la conception et la réalisation de 3 modules :\n",
    "- un extracteur sémantique de son qui extrait les informations dynamiques musicales à partir d’un fichier son\n",
    "- un compositeur de mouvement qui décide de la suite des actions à faire effectuer par la Tala Box à partir des données du module d’extraction du son\n",
    "- un simulateur de la Tala Box qui affiche un graphique simplifié de la Tala Box en fonction des commandes générées par le module de composition du mouvement.\n",
    "\n",
    "Nous avons choisi de nous orienter vers une programmation sous Python, car Python possédait déjà de nombreux modules pour l'analyse musicale mais aussi le développement de fenêtre graphique."
   ]
  },
  {
   "cell_type": "markdown",
   "metadata": {},
   "source": [
    "## I/ Analyse d'un morceau"
   ]
  },
  {
   "cell_type": "markdown",
   "metadata": {},
   "source": [
    "Pour cet extracteur sémantique de son, nous avons dû procéder à une analyse musicale pour en extraire les données qui nous semblaient pertinentes au vu de l’objectif de la Tala Box : amplitude sonore, tempo et fréquences.\n",
    "\n",
    "Toutes ces données varient bien évidemment au cours du temps (la musique n'étant pas \"stationnaire\"), nous avons dû effectuer un traitement dynamique de la musique. C'est pourquoi, nous nous sommes tournées vers la bibliothèque Python librOsa."
   ]
  },
  {
   "cell_type": "code",
   "execution_count": null,
   "metadata": {},
   "outputs": [],
   "source": [
    "# importer la librairie pour le traitement de la musique\n",
    "import librosa\n",
    "from librosa import display\n",
    "\n",
    "# importer la librairie pour le widget de lecture\n",
    "from IPython.display import Audio"
   ]
  },
  {
   "cell_type": "code",
   "execution_count": null,
   "metadata": {},
   "outputs": [],
   "source": [
    "# récupération du morceau de musique caranatique que l'on cherche à analyser\n",
    "audio_data = 'music.wav'\n",
    "\n",
    "# lecture du morceau par la bibliothèque librosa\n",
    "samples , sampling_rate = librosa.load(audio_data, sr = None)\n",
    "    # samples renvoie les échantillons de musiques\n",
    "    # sampling_rate renvoie la fréquence d'échantillonage du morceau ; par défaut, comme 'sr = None', elle est de 44100 Hz\n",
    "\n",
    "# création du widget de lecture de musique\n",
    "Audio(data = samples, rate = sampling_rate)"
   ]
  },
  {
   "cell_type": "code",
   "execution_count": null,
   "metadata": {},
   "outputs": [],
   "source": [
    "# vérifier que tout fonctionne bien (bonne durée de musique)\n",
    "duration_of_sound = len(samples)/sampling_rate\n",
    "duration_of_sound"
   ]
  },
  {
   "cell_type": "code",
   "execution_count": null,
   "metadata": {},
   "outputs": [],
   "source": [
    "# création de la liste des temps pour l'échantillonnage\n",
    "t = np.linspace(0., duration_of_sound, len(samples))"
   ]
  },
  {
   "cell_type": "code",
   "execution_count": null,
   "metadata": {},
   "outputs": [],
   "source": [
    "# affichage de la musique brute\n",
    "plt.figure()\n",
    "librosa.display.waveplot(y = samples, sr = sampling_rate)\n",
    "plt.xlabel(\"Time\")\n",
    "plt.ylabel(\"Amplitude\")\n",
    "plt.title('Musique carnatique')\n",
    "plt.show()"
   ]
  },
  {
   "cell_type": "markdown",
   "metadata": {},
   "source": [
    "### 1/ Amplitude"
   ]
  },
  {
   "cell_type": "markdown",
   "metadata": {},
   "source": [
    "On va chercher à récupérer l'amplitude sonore de la musique.\n",
    "On remarque aisément sur la figure précédente que le signal récupéré est très bruité.\n",
    "On va donc lui appliquer dans un premier temps un filtre de Wiener, pour enlever le bruit (les grésillements)."
   ]
  },
  {
   "cell_type": "code",
   "execution_count": null,
   "metadata": {},
   "outputs": [],
   "source": [
    "# importer la librairie pour le filtre de Wiener\n",
    "from scipy import signal\n",
    "from scipy.signal import wiener"
   ]
  },
  {
   "cell_type": "markdown",
   "metadata": {},
   "source": [
    "On va faire plusieurs essais avec le filtre pour voir quels paramètre choisir.\n",
    "En effet, si on prend un paramètre de fenêtre 'mysize' trop grand, on va perdre trop d'informations sur le signal. Au contraire, si il est trop petit, tout se passera comme si il n'y avait pas de filtre."
   ]
  },
  {
   "cell_type": "code",
   "execution_count": null,
   "metadata": {},
   "outputs": [],
   "source": [
    "# on applique le filtre sur le signal avec un paramètre 'mysize' différent à chaque fois\n",
    "son_filtre1 = wiener(samples, 10)\n",
    "son_filtre2 = wiener(samples, 100)\n",
    "son_filtre3 = wiener(samples, 1000)"
   ]
  },
  {
   "cell_type": "code",
   "execution_count": null,
   "metadata": {},
   "outputs": [],
   "source": [
    "# on trace la représentation des trois signaux et du signal original\n",
    "\n",
    "plt.plot(t, samples, 'k', label='original signal')\n",
    "plt.plot(t, son_filtre1, '-.', label='filtered signal, mysize = 10')\n",
    "plt.plot(t, son_filtre2, '--', label='filtered signal, mysize = 100')\n",
    "plt.plot(t, son_filtre3, ':', label='filtered signal, mysize = 1000')\n",
    "plt.xlabel('Time (s)')\n",
    "plt.ylabel('Amplitude')\n",
    "plt.legend()\n",
    "plt.grid()\n",
    "plt.show()"
   ]
  },
  {
   "cell_type": "markdown",
   "metadata": {},
   "source": [
    "Les graphes tracés ne sont pas très lisibles. On peut regarder à différentes échelles de temps les résultats obtenus."
   ]
  },
  {
   "cell_type": "code",
   "execution_count": null,
   "metadata": {},
   "outputs": [],
   "source": [
    "# Graphe pour une échelle de temps de 1s\n",
    "plt.plot(t[:sampling_rate], samples[:sampling_rate], 'k', label='original signal')\n",
    "plt.plot(t[:sampling_rate], son_filtre1[:sampling_rate], '-.', label='filtered signal, mysize = 10')\n",
    "plt.plot(t[:sampling_rate], son_filtre2[:sampling_rate], '--', label='filtered signal, mysize = 100')\n",
    "plt.plot(t[:sampling_rate], son_filtre3[:sampling_rate], ':', label='filtered signal, mysize = 1000')\n",
    "plt.xlabel('Time (s)')\n",
    "plt.ylabel('Amplitude')\n",
    "plt.legend()\n",
    "plt.grid()\n",
    "plt.show()"
   ]
  },
  {
   "cell_type": "code",
   "execution_count": null,
   "metadata": {},
   "outputs": [],
   "source": [
    "# Graphe pour une échelle de temps de 10ms\n",
    "plt.plot(t[:int(sampling_rate/100)], samples[:int(sampling_rate/100)], 'k', label='original signal')\n",
    "plt.plot(t[:int(sampling_rate/100)], son_filtre1[:int(sampling_rate/100)], '-.', label='filtered signal, mysize = 10')\n",
    "plt.plot(t[:int(sampling_rate/100)], son_filtre2[:int(sampling_rate/100)], '--', label='filtered signal, mysize = 100')\n",
    "plt.plot(t[:int(sampling_rate/100)], son_filtre3[:int(sampling_rate/100)], ':', label='filtered signal, mysize = 1000')\n",
    "plt.xlabel('Time (s)')\n",
    "plt.ylabel('Amplitude')\n",
    "plt.legend()\n",
    "plt.grid()\n",
    "plt.show()"
   ]
  },
  {
   "cell_type": "markdown",
   "metadata": {},
   "source": [
    "On voit bien qu'il y a eu une réduction de bruit. Mais, comme il s'agit ici d'utiliser les valeurs obtenues pour les appliquer sur un dispositif sensoriel, il faut s'assurer que la musique n'a pas été dénaturée.\n",
    "Pour cela, on écoute ce que chacun des signaux donne."
   ]
  },
  {
   "cell_type": "code",
   "execution_count": null,
   "metadata": {},
   "outputs": [],
   "source": [
    "# Audio avec 'mysize = 10'\n",
    "Audio(data = son_filtre1, rate = sampling_rate)"
   ]
  },
  {
   "cell_type": "code",
   "execution_count": null,
   "metadata": {},
   "outputs": [],
   "source": [
    "# Audio avec 'mysize = 100'\n",
    "Audio(data = son_filtre2, rate = sampling_rate)"
   ]
  },
  {
   "cell_type": "code",
   "execution_count": null,
   "metadata": {},
   "outputs": [],
   "source": [
    "# Audio avec 'mysize = 1000'\n",
    "Audio(data = son_filtre3, rate = sampling_rate)"
   ]
  },
  {
   "cell_type": "markdown",
   "metadata": {},
   "source": [
    "Après écoute des morceaux, on en déduit que le paramètre 'mysize' le plus adapté est XXX.\n",
    "La liste contenant les informations de l'amplitude sonore qui va nous servir par la suite est donc :"
   ]
  },
  {
   "cell_type": "code",
   "execution_count": null,
   "metadata": {},
   "outputs": [],
   "source": [
    "son_filtre = abs(son_filtreXXX)"
   ]
  },
  {
   "cell_type": "markdown",
   "metadata": {},
   "source": [
    "Une fois le bruit enlevé, on va chercher à filtrer le signal pour qu'il soit plus lisse ('smooth') et ainsi qu'il n'y ait pas de variations brusques, ce qui sera plus aisément analysable par la machine (voire partie XXX)."
   ]
  },
  {
   "cell_type": "markdown",
   "metadata": {},
   "source": [
    "### 2/ Tempo"
   ]
  },
  {
   "cell_type": "markdown",
   "metadata": {},
   "source": [
    "On va chercher à récupérer le tempo de la musique."
   ]
  },
  {
   "cell_type": "markdown",
   "metadata": {},
   "source": [
    "La musique caranatique présente une rythmique qui lui est propre (pas de binaire ou ternaire).\n",
    "Elle utilise divers rythmes codifiés sous le nom de tâla. Ces rythmes peuvent faire l'objet de variations complexes. Un tâla contient une mesure contenant un certain nombre de temps. La mesure définie par le tâla commence par un temps accentué ou sam qui conclut la mesure précédente autant qu'il lance la nouvelle mesure. À l'intérieur de la mesure, les temps sont regroupés en sous-unités de longueur variable, marquées par un battement de main ou un simple geste silencieux qui n'implique pas nécessairement un accent.\n",
    "Cette rythmique particulière nous ammène donc à d'abord tester notre algorithme sur un morceau de musique simple, dont on connaît déjà le tempo pour ensuite pouvoir l'appliquer au morceau de musique carnatique."
   ]
  },
  {
   "cell_type": "markdown",
   "metadata": {},
   "source": [
    "On va utiliser un enregistrement d'un métronome à 125 bpm."
   ]
  },
  {
   "cell_type": "code",
   "execution_count": null,
   "metadata": {},
   "outputs": [],
   "source": [
    "# récupération du morceau de métronome que l'on cherche à analyser\n",
    "audio_test = 'tempo.wav'\n",
    "\n",
    "# lecture du morceau par la bibliothèque librosa\n",
    "samples_test , sr_test = librosa.load(audio_test, sr = None)\n",
    "    # samples renvoie les échantillons de musiques\n",
    "    # sampling_rate renvoie la fréquence d'échantillonage du morceau ; par défaut, comme 'sr = None', elle est de 44100 Hz\n",
    "\n",
    "# création du widget de lecture de musique\n",
    "Audio(data = samples_test, rate = sr_test)"
   ]
  },
  {
   "cell_type": "code",
   "execution_count": null,
   "metadata": {},
   "outputs": [],
   "source": [
    "# vérifier que tout fonctionne bien (bonne durée de musique)\n",
    "duration_of_sound_test = len(samples_test)/sr_test\n",
    "duration_of_sound_test"
   ]
  },
  {
   "cell_type": "code",
   "execution_count": null,
   "metadata": {},
   "outputs": [],
   "source": [
    "# affichage de la musique brute\n",
    "plt.figure()\n",
    "librosa.display.waveplot(y = samples_test, sr = sr_test)\n",
    "plt.xlabel(\"Time (s)\")\n",
    "plt.ylabel(\"Amplitude\")\n",
    "plt.title('Battements')\n",
    "plt.show()"
   ]
  },
  {
   "cell_type": "code",
   "execution_count": null,
   "metadata": {},
   "outputs": [],
   "source": [
    "# récupération de l'enveloppe du son de la musique de métronome (déterminer par les 'accoups')\n",
    "onset_env_test = librosa.onset.onset_strength(samples_test, sr=sr_test)\n",
    "\n",
    "# estimation des différents tempo/pulsation sur des fenêtres de 10ms (frame de 512 samples)\n",
    "tempo_liste_test = librosa.beat.tempo(onset_envelope=onset_env_test, sr=sr_test, aggregate=None)\n",
    "    # aggregate = None donne un tempo dynamique, ie.\n",
    "    # la fonction donne ici une valeur de tempo sur des frame de 512 samples\n",
    "    # et renvoie donc une liste de tempo\n",
    "\n",
    "# vérification des paramètres donnés par la documentation de la fonction\n",
    "ltempo_test = len(tempo_liste_test)\n",
    "\n",
    "# conversion de la liste en tableau\n",
    "tempo_array_test = np.array(tempo_liste_test)"
   ]
  },
  {
   "cell_type": "code",
   "execution_count": null,
   "metadata": {},
   "outputs": [],
   "source": [
    "# création de la liste des temps pour l'échantillonnage du tempo\n",
    "t_test = np.linspace(0., duration_of_sound_test, ltempo_test)"
   ]
  },
  {
   "cell_type": "code",
   "execution_count": null,
   "metadata": {},
   "outputs": [],
   "source": [
    "plt.plot(t_test[:987], tempo_array_test[:987])\n",
    "plt.xlabel('Time (s)')\n",
    "plt.ylabel('Tempo')\n",
    "plt.title('Tempo du morceau test à 125 bpm')\n",
    "plt.grid()\n",
    "plt.show()"
   ]
  },
  {
   "cell_type": "markdown",
   "metadata": {},
   "source": [
    "On voit bien que le tempo du morceau est constant au cours du temps et égal à la valeur attendue de 125 bpm. On va donc pouvoir l'appliquer au morceau de musique carnatique."
   ]
  },
  {
   "cell_type": "code",
   "execution_count": null,
   "metadata": {},
   "outputs": [],
   "source": [
    "# récupération de l'enveloppe du son de la musique carnatique\n",
    "onset_env = librosa.onset.onset_strength(samples, sr=sampling_rate)\n",
    "\n",
    "# estimation des différents tempo/pulsation sur des fenêtres de 10ms (frame de 512 samples)\n",
    "tempo_liste = librosa.beat.tempo(onset_envelope=onset_env, sr=sampling_rate, aggregate=None)\n",
    "    # aggregate = None donne un tempo dynamique, ie.\n",
    "    # la fonction donne ici une valeur de tempo sur des frame de 512 samples\n",
    "    # et renvoie donc une liste de tempo\n",
    "\n",
    "# vérification des paramètres donnés par la documentation de la fonction\n",
    "ltempo = len(tempo_liste)\n",
    "\n",
    "# conversion de la liste en tableau\n",
    "tempo_array = np.array(tempo_liste)"
   ]
  },
  {
   "cell_type": "code",
   "execution_count": null,
   "metadata": {},
   "outputs": [],
   "source": [
    "# création de la liste des temps pour l'échantillonnage du tempo\n",
    "t_tempo = np.linspace(0., duration_of_sound, ltempo)"
   ]
  },
  {
   "cell_type": "code",
   "execution_count": null,
   "metadata": {},
   "outputs": [],
   "source": [
    "plt.plot(t_tempo, tempo_array)\n",
    "plt.xlabel('Time (s)')\n",
    "plt.ylabel('Tempo')\n",
    "plt.title('Tempo du morceau de musique carnatique')\n",
    "plt.grid()\n",
    "plt.show()"
   ]
  },
  {
   "cell_type": "markdown",
   "metadata": {},
   "source": [
    "La liste contenant les informations du tempo qui va nous servir par la suite est donc :"
   ]
  },
  {
   "cell_type": "code",
   "execution_count": null,
   "metadata": {},
   "outputs": [],
   "source": [
    "tempo_liste"
   ]
  },
  {
   "cell_type": "markdown",
   "metadata": {},
   "source": [
    "On voit qu'on obtient des variaions de tempo, parfois brusques. On va donc chercher à filtrer le signal obtenu pour qu'il soit plus lisse ('smooth') et ainsi qu'il n'y ait pas de variations brusques, ce qui sera plus aisément analysable par la machine (voire partie XXX)."
   ]
  },
  {
   "cell_type": "markdown",
   "metadata": {},
   "source": [
    "### 3/ Fréquence"
   ]
  },
  {
   "cell_type": "code",
   "execution_count": null,
   "metadata": {},
   "outputs": [],
   "source": []
  },
  {
   "cell_type": "markdown",
   "metadata": {},
   "source": [
    "## II/ Traitement : création du mouvement"
   ]
  },
  {
   "cell_type": "markdown",
   "metadata": {},
   "source": [
    "### 1/ Méthode pour imposer un mouvement à partir des trois données calculées précédemment"
   ]
  },
  {
   "cell_type": "markdown",
   "metadata": {},
   "source": [
    "Les encadrants nous ont laissé une grande liberté sur la traduction en mouvement des données obtenues à la partie 1.\n",
    "\n",
    "Nous avons donc pris le parti pris de traduire le mouvement de la sorte :\n",
    "\n",
    "- contraintes de la machine : le mouvement de la balle est restreint par les caractéristiques de la machine. La zone délimitée en vert correspond à la zone accessible à la balle.\n",
    "<img src=\"des-mouvt-1.PNG\" alt=\"drawing\" width=\"200\"/>\n",
    "\n",
    "- choix du groupe : la hauteur de cette zone sera réduite en fonction de l'amplitude. Plus précisément, moins le volume est élevé, moins cette zone sera grande. La zone délimitée en orange ci-dessous illustre ce phénomène qualitativement.\n",
    "<img src=\"des-mouvt-4.PNG\" alt=\"drawing\" width=\"200\"/>\n",
    "\n",
    "- choix du groupe : le mouvement de base la balle est un mouvement en triangle, comme l'illustre le dessin ci-dessous.\n",
    "<img src=\"des-mouvt-3.PNG\" alt=\"drawing\" width=\"200\"/>\n",
    "\n",
    "- choix du groupe :  plus précisément, la caractéristiques de vitesse mouvement de base variera en fonction du tempo et de la fréquence. Plus précisément, la vitesse horizontale évoluera comme le tempo et la vitesse verticale comme la fréquence."
   ]
  },
  {
   "cell_type": "markdown",
   "metadata": {},
   "source": [
    "### 2/ Algorithme"
   ]
  },
  {
   "cell_type": "markdown",
   "metadata": {},
   "source": [
    "On implémente ici l'algorithme décrit ci-dessus."
   ]
  },
  {
   "cell_type": "code",
   "execution_count": 5,
   "metadata": {},
   "outputs": [],
   "source": [
    "# importer les librairies pour le traitement des données obtenues dans la partie I/\n",
    "import numpy as np\n",
    "import pandas as pd"
   ]
  },
  {
   "cell_type": "code",
   "execution_count": 6,
   "metadata": {},
   "outputs": [],
   "source": [
    "# **** CONSTANTES ****\n",
    "\n",
    "duree_fenetre = 5 #en secondes\n",
    "pas_echantillonnage = 0.1 #en seconde\n",
    "#ATTENTION, nb_pos doit tomber juste et être un entier !!\n",
    "nb_pos = int(duree_fenetre/pas_echantillonnage) #on veut un échantillon des positions avec un pas d'un dixième de seconde\n",
    "\n",
    "gain_hor = 0.5\n",
    "gain_vert = 2.5"
   ]
  },
  {
   "cell_type": "markdown",
   "metadata": {},
   "source": [
    "Voici l'implémentation du mouvement :"
   ]
  },
  {
   "cell_type": "code",
   "execution_count": 7,
   "metadata": {},
   "outputs": [],
   "source": [
    "def DataMouv(volume,frequence,tempo) : \n",
    "    \n",
    "    #stocker la position\n",
    "        # on stocke les données récoltées précédemment\n",
    "        # on stocke les données de positions pour chaque temps\n",
    "        # la balle doit être à la position (X[i],Y[i]) au ième dixième de seconde de la musique\n",
    "    X=[0]   #abscisses\n",
    "    Y=[0]   #ordonnées\n",
    "     \n",
    "    #sens de déplacement horizontal et vertical\n",
    "    signe_hor, signe_vert = 1,1 #initialisation en (0,0)\n",
    "    \n",
    "    for n_f in range (nb_fenetre) :\n",
    "        \n",
    "        #donnees pour la fenêtre considérée\n",
    "        vol = volume[n_f]\n",
    "        freq = frequence[n_f]\n",
    "        temp = tempo[n_f]\n",
    "        \n",
    "        #recherche de y_min et y_max en fonction du volume et de la position de départ\n",
    "        #le volume est dans [0,1]\n",
    "        h_deplacement_min = 40\n",
    "        h_deplacement = h_deplacement_min + int((100 - h_deplacement_min)*vol)\n",
    "        \n",
    "        y0 = Y[nb_pos*n_f]\n",
    "        if (y0+int(h_deplacement/2))<=100 and (y0-int(h_deplacement/2)-int(h_deplacement/2)%2)>=0 :\n",
    "            y_max, y_min = y0+int(h_deplacement/2), y0-int(h_deplacement/2)-(h_deplacement/2)%2\n",
    "        else :\n",
    "            diff = min(100-y0, h_deplacement)\n",
    "            y_max, y_min = y0+diff, y0-h_deplacement+diff\n",
    "        \n",
    "        for n_p in range (nb_pos) :\n",
    "            \n",
    "            x0 = X[nb_pos*n_f + n_p]\n",
    "            y0 = Y[nb_pos*n_f + n_p]\n",
    "            \n",
    "            x_deplacement = gain_hor*temp\n",
    "            y_deplacement = gain_vert*freq/2  #on divise par deux pour prendre en compte les proportions de la machine\n",
    "            \n",
    "            x_test = x0 + signe_hor*x_deplacement\n",
    "            y_test = y0 + signe_vert*y_deplacement\n",
    "            \n",
    "            if x_test < 0 or x_test > 100 :\n",
    "                signe_hor = -signe_hor  \n",
    "            if y_test < y_min or y_test > y_max :\n",
    "                signe_vert = -signe_vert\n",
    "                \n",
    "            X.append(x0 + signe_hor*x_deplacement)\n",
    "            Y.append(y0 + signe_vert*y_deplacement)\n",
    "    return X, Y"
   ]
  },
  {
   "cell_type": "markdown",
   "metadata": {},
   "source": [
    "### 3/ Test sur des données constantes"
   ]
  },
  {
   "cell_type": "code",
   "execution_count": 8,
   "metadata": {},
   "outputs": [],
   "source": [
    "# création d'une banque de données\n",
    "\n",
    "volume = [1 for i in range(1,10)]\n",
    "frequence = [1 for i in range(1,10)]\n",
    "tempo = [1 for i in range(1,10)]\n",
    "nb_fenetre = len(volume)\n",
    "\n",
    "# on applique la formule à notre jeu de données\n",
    "X_const, Y_const = DataMouv(volume,frequence,tempo)"
   ]
  },
  {
   "cell_type": "markdown",
   "metadata": {},
   "source": [
    "Des conditions nécessaires pour que $(X_{const},Y_{const})$ fournisse des positions pertinentes sont que :\n",
    "- les valeurs sont comprises entre 0 et 100 (toujours les cas)\n",
    "- les valeurs en abscisses et en ordonnées sont réfulièrement espacées (la fréquence, le tempo et le volume échantillonnés sont ici toujours égaux à 1)\n",
    "\n",
    "On va donc d'abord globalement ploter cesvaleurs pour éventuellement détecter une abération grossière, puis faire une vérification un peu plus précises "
   ]
  },
  {
   "cell_type": "code",
   "execution_count": 11,
   "metadata": {},
   "outputs": [
    {
     "data": {
      "text/plain": [
       "Text(0.5, 0, 'Temps (en 10ème de seconde)')"
      ]
     },
     "execution_count": 11,
     "metadata": {},
     "output_type": "execute_result"
    },
    {
     "data": {
      "image/png": "[encoded data removed]",
      "text/plain": [
       "<Figure size 432x288 with 1 Axes>"
      ]
     },
     "metadata": {
      "needs_background": "light"
     },
     "output_type": "display_data"
    }
   ],
   "source": [
    "import matplotlib.pyplot as plt\n",
    "\n",
    "temps = [i for i in range(len(X_const))]\n",
    "\n",
    "plt.plot(temps, X_const)\n",
    "plt.title(\"Abscisses en fonction du temps\")\n",
    "plt.ylabel(\"Abscisses (en %)\")\n",
    "plt.xlabel(\"Temps (en 10ème de seconde)\")"
   ]
  },
  {
   "cell_type": "code",
   "execution_count": 10,
   "metadata": {},
   "outputs": [
    {
     "data": {
      "text/plain": [
       "Text(0.5, 0, 'Temps (en 10ème de seconde)')"
      ]
     },
     "execution_count": 10,
     "metadata": {},
     "output_type": "execute_result"
    },
    {
     "data": {
      "image/png": "[encoded data removed]",
      "text/plain": [
       "<Figure size 432x288 with 1 Axes>"
      ]
     },
     "metadata": {
      "needs_background": "light"
     },
     "output_type": "display_data"
    }
   ],
   "source": [
    "plt.plot(temps, Y_const)\n",
    "plt.title(\"Ordonnées en fonction du temps\")\n",
    "plt.ylabel(\"Ordonnées (en %)\")\n",
    "plt.xlabel(\"Temps (en 10ème de seconde)\")"
   ]
  },
  {
   "cell_type": "markdown",
   "metadata": {},
   "source": [
    "Les résultats semblent cohérents. On va néanmoins effectuer des vérifications plus précises."
   ]
  },
  {
   "cell_type": "code",
   "execution_count": 12,
   "metadata": {},
   "outputs": [
    {
     "name": "stdout",
     "output_type": "stream",
     "text": [
      "Le minimum de X est 0\n",
      "Le minimum de Y est 0\n",
      "Le maximum de X est 100.0\n",
      "Le maximum de Y est 100.0\n"
     ]
    }
   ],
   "source": [
    "# min et max :\n",
    "print(\"Le minimum de X est \" + str(min(X_const)))\n",
    "print(\"Le minimum de Y est \" + str(min(Y_const)))\n",
    "print(\"Le maximum de X est \" + str(max(X_const)))\n",
    "print(\"Le maximum de Y est \" + str(max(Y_const)))"
   ]
  },
  {
   "cell_type": "code",
   "execution_count": 13,
   "metadata": {},
   "outputs": [
    {
     "name": "stdout",
     "output_type": "stream",
     "text": [
      "Les valeurs de X sont régulièrement espacés :True\n",
      "Les valeurs de Y sont régulièrement espacés :True\n"
     ]
    }
   ],
   "source": [
    "#espacement régulier\n",
    "\n",
    "def diff_maxi(L):\n",
    "    maxi = 0 #valeur minimale\n",
    "    N = len(L)\n",
    "    for i in range(1,N) :\n",
    "        if abs(L[i-1]-L[i])>maxi :\n",
    "            maxi = abs(L[i-1]-L[i])\n",
    "    return maxi\n",
    "\n",
    "def diff_mini(L):\n",
    "    mini = 100 #valeur maximale\n",
    "    N = len(L)\n",
    "    for i in range(1,N) :\n",
    "        if abs(L[i-1]-L[i])<mini :\n",
    "            mini = abs(L[i-1]-L[i])\n",
    "    return mini\n",
    "\n",
    "print(\"Les valeurs de X sont régulièrement espacés :\" + str(diff_mini(X_const)==diff_maxi(X_const)))\n",
    "print(\"Les valeurs de Y sont régulièrement espacés :\" + str(diff_mini(Y_const)==diff_maxi(Y_const)))"
   ]
  },
  {
   "cell_type": "markdown",
   "metadata": {},
   "source": [
    "Il semble donc que l'algorithme fonctionne bien sur ce jeu de valeurs."
   ]
  },
  {
   "cell_type": "markdown",
   "metadata": {},
   "source": [
    "### 4/ Mouvement pour le morceau indien"
   ]
  },
  {
   "cell_type": "code",
   "execution_count": null,
   "metadata": {},
   "outputs": [],
   "source": []
  },
  {
   "cell_type": "markdown",
   "metadata": {},
   "source": [
    "## III/ Animation : visualisation du mouvement"
   ]
  },
  {
   "cell_type": "markdown",
   "metadata": {},
   "source": [
    "Nous avons réalisé une interface graphique avant de visualiser le mouvement.\n",
    "\n",
    "Néanmoins, le mouvement est saccadé car pour faciliter l'implémentation, nous n'avons pas utiliser de positions intermédiaires autres que celles déterminées dans la partie III/.\n",
    "\n",
    "En effet, il faut un minium de 16 images par seconde pour que le mouvement soit fluide, alors que nous n'en disposons que de 10. Il suffirait alors de réduire $pas\\_echantillonnage$ (typiquement, le diviser par deux) pour que le mouvement apparaissent comme étant plus fluide.\n",
    "\n",
    "Cependant, comme la machine réelle ne nécessite pas une telle précision sur le pas d'échantillonnage, on conserve le mouvement saccadé."
   ]
  },
  {
   "cell_type": "markdown",
   "metadata": {},
   "source": [
    "### 1/ Algorithme"
   ]
  },
  {
   "cell_type": "code",
   "execution_count": 14,
   "metadata": {},
   "outputs": [],
   "source": [
    "# importation des librairies\n",
    "\n",
    "from tkinter import *\n",
    "from time import sleep"
   ]
  },
  {
   "cell_type": "code",
   "execution_count": 15,
   "metadata": {},
   "outputs": [],
   "source": [
    "def Animation (X,Y) :\n",
    "    \n",
    "    #création du canvas pour l'animation\n",
    "    main = Tk()\n",
    "    main.geometry(\"360x400+400+360\")  \n",
    "    \n",
    "    #dimension de la machine\n",
    "    lng_rail, lrg_rail = 280, 10\n",
    "    lng_tige1, lrg_tige1 = 90, 10\n",
    "    lng_tige2, lrg_tige2 = 100, 15\n",
    "    ray_boule = 30\n",
    "    \n",
    "    #position initiale de la machine \n",
    "    dec_rail_tige2 = 30\n",
    "    x0_rail, y0_rail = 10, 360\n",
    "    x0_tige2,y0_tige2 = x0_rail + dec_rail_tige2 , y0_rail\n",
    "    x0_tige1,y0_tige1 = x0_tige2+(lrg_tige2-lrg_tige1)/2,y0_tige2-(lng_tige2-lng_tige1) #PROOOOBLE POUR 130\n",
    "    x0_boule, y0_boule = x0_tige1+(lrg_tige1/2)-ray_boule,y0_tige1-lng_tige1\n",
    "    \n",
    "    #positions extremales de la machine (par rapport au bout en haut à gauche de la tige1)\n",
    "    x_min_extr , x_max_extr = x0_tige2, x0_rail + lng_rail - dec_rail_tige2 \n",
    "    y_max_extr , y_min_extr = y0_tige2-lng_tige2, y0_tige2-lng_tige1-lng_tige2\n",
    "    #y_max_extr , y_min_extr =y0_tige2-(lng_tige2-lng_tige1)-lng_tige1, y0_tige2-(lng_tige2-lng_tige1) - 2*lng_tige1\n",
    "    \n",
    "    x_long = x_max_extr - x_min_extr\n",
    "    y_long = y_max_extr - y_min_extr\n",
    "    \n",
    "    # déplacement de la machine\n",
    "    X_dec = [(X[i]-X[i-1])*x_long/100 for i in range (1, len(X))]\n",
    "    Y_dec = [(Y[i-1]-Y[i])*y_long/100 for i in range (1, len(Y))] #car y croissant du haut vers le bas\n",
    "    nb_dec = len(X_dec)\n",
    "    \n",
    "    #création de l'environnement\n",
    "    canvas = Canvas(main,width=\"360\",height=\"400\")\n",
    "    rail = canvas.create_rectangle(x0_rail, y0_rail, x0_rail+lng_rail, y0_rail+lrg_rail, fill=\"slategrey\")\n",
    "    tige1 = canvas.create_rectangle(x0_tige1, y0_tige1, x0_tige1+lrg_tige1, y0_tige1-lng_tige1, fill=\"silver\")\n",
    "    tige2 = canvas.create_rectangle(x0_tige2, y0_tige2, x0_tige2+lrg_tige2, y0_tige2-lng_tige2, fill=\"dimgray\")\n",
    "    boule = canvas.create_oval(x0_boule, y0_boule, x0_boule+2*ray_boule , y0_boule-2*ray_boule,fill=\"mediumvioletred\")\n",
    "    \n",
    "    canvas.pack()\n",
    "    main.resizable(width=False,height=False)\n",
    "    \n",
    "    #mise à jour de la position de la balle\n",
    "    for i in range(nb_dec) :\n",
    "        sleep(pas_echantillonnage)\n",
    "        canvas.move(boule,X_dec[i],Y_dec[i])\n",
    "        canvas.move(tige1,X_dec[i],Y_dec[i])\n",
    "        canvas.move(tige2,X_dec[i],0)  \n",
    "        canvas.update()\n",
    "    \n",
    "    main.mainloop()"
   ]
  },
  {
   "cell_type": "markdown",
   "metadata": {},
   "source": [
    "### 2/ Test sur des données constantes"
   ]
  },
  {
   "cell_type": "markdown",
   "metadata": {},
   "source": [
    "Notre Jupyter est trop lent pour cette animation (qui fonctionne bien sous Spyder). On donne donc ci-dessous la commande pour obtenir le mouvement de l'animation (vidéo ci-dessous)."
   ]
  },
  {
   "cell_type": "code",
   "execution_count": 16,
   "metadata": {},
   "outputs": [],
   "source": [
    "#Animation(X_const, Y_const)"
   ]
  },
  {
   "cell_type": "code",
   "execution_count": 17,
   "metadata": {},
   "outputs": [],
   "source": [
    "from IPython.display import Video"
   ]
  },
  {
   "cell_type": "code",
   "execution_count": 18,
   "metadata": {},
   "outputs": [
    {
     "data": {
      "text/html": [
       "<video width=\"320\" height=\"420\" controls>\n",
       "  <source src=\"test_const.mp4\" type=\"video/mp4\">\n",
       "</video>\n"
      ],
      "text/plain": [
       "<IPython.core.display.HTML object>"
      ]
     },
     "metadata": {},
     "output_type": "display_data"
    }
   ],
   "source": [
    "%%HTML\n",
    "<video width=\"320\" height=\"420\" controls>\n",
    "  <source src=\"enregistrement-vitesse-1_1.mp4\" type=\"video/mp4\">\n",
    "</video>"
   ]
  },
  {
   "cell_type": "markdown",
   "metadata": {},
   "source": [
    "On propose aussi une visualisation pour :\n",
    "- $volume = [1,0,0.5]*3$\n",
    "- $frequence = [1]*9$\n",
    "- $tempo = [1]*9$"
   ]
  },
  {
   "cell_type": "markdown",
   "metadata": {},
   "source": [
    "On remarque que ce mouvement (qui est sensé être le plus rapide car toutes les valeurs des listes de données sont des $1$), est assez lent (la longueur de la machine est de XXX) : on va donc chercher à jouer sur la valeur du $gain_{hor}$ et du $gain_{vert}$ (définis au début de la partie $II/2$) pour accélerer le mouvement.\n",
    "\n",
    "Néanmoins, avant de s'intéresser à ce point, pour mieux appréhender le mouvement, on propose aussi une visualisation pour :\n",
    "\n",
    "- $amplitude = [1,0,0.5]*3$\n",
    "\n",
    "- $frequence = [1]*9$\n",
    "\n",
    "- $tempo = [1]*9$"
   ]
  },
  {
   "cell_type": "code",
   "execution_count": 20,
   "metadata": {},
   "outputs": [
    {
     "data": {
      "text/html": [
       "<video width=\"320\" height=\"420\" controls>\n",
       "  <source src=\"enregistrement-vitesse-2_1.mp4\" type=\"video/mp4\">\n",
       "</video>\n"
      ],
      "text/plain": [
       "<IPython.core.display.HTML object>"
      ]
     },
     "metadata": {},
     "output_type": "display_data"
    }
   ],
   "source": [
    "%%HTML\n",
    "<video width=\"320\" height=\"420\" controls>\n",
    "  <source src=\"enregistrement-vitesse-2_1.mp4\" type=\"video/mp4\">\n",
    "</video>"
   ]
  },
  {
   "cell_type": "markdown",
   "metadata": {},
   "source": [
    "## IV / Affiner le mouvement"
   ]
  },
  {
   "cell_type": "code",
   "execution_count": null,
   "metadata": {},
   "outputs": [],
   "source": []
  },
  {
   "cell_type": "code",
   "execution_count": null,
   "metadata": {},
   "outputs": [],
   "source": []
  }
 ],
 "metadata": {
  "kernelspec": {
   "display_name": "Python 3",
   "language": "python",
   "name": "python3"
  },
  "language_info": {
   "codemirror_mode": {
    "name": "ipython",
    "version": 3
   },
   "file_extension": ".py",
   "mimetype": "text/x-python",
   "name": "python",
   "nbconvert_exporter": "python",
   "pygments_lexer": "ipython3",
   "version": "3.7.4"
  }
 },
 "nbformat": 4,
 "nbformat_minor": 4
}
